{
 "cells": [
  {
   "cell_type": "code",
   "execution_count": null,
   "id": "df3a8a18",
   "metadata": {},
   "outputs": [],
   "source": [
    "%load_ext autoreload\n",
    "%autoreload 2"
   ]
  },
  {
   "cell_type": "code",
   "execution_count": null,
   "id": "067e1e0a",
   "metadata": {},
   "outputs": [],
   "source": [
    "import matplotlib.pyplot as plt\n",
    "import numpy as np\n",
    "from meta.exp import BatchedExp, frobenius_dist, subspace_dist, sine_dist, FinalPlotter\n",
    "from meta.plot import *"
   ]
  },
  {
   "cell_type": "code",
   "execution_count": null,
   "id": "226f7577",
   "metadata": {},
   "outputs": [],
   "source": [
    "plotter = FinalPlotter()"
   ]
  },
  {
   "cell_type": "code",
   "execution_count": null,
   "id": "c388234b",
   "metadata": {},
   "outputs": [],
   "source": [
    "exp = BatchedExp.from_dir(\"../logdir/ntasks/medium-task-size.01\")"
   ]
  },
  {
   "cell_type": "code",
   "execution_count": null,
   "id": "7d238a7d",
   "metadata": {},
   "outputs": [],
   "source": [
    "# figure 1\n",
    "plotter.plot(exp, (\"ntasks\", r\"$T$\"),\n",
    "             disable_algs=[[\"altmin\", \"bm\"], []]);\n",
    "plotter.plot_range(exp, \"ntasks/bm\", slice(4, None, None))\n",
    "plotter.fig.savefig(\"figures/ntasks-medium-task-size.pdf\", \n",
    "                    format=\"pdf\", dpi=1200, bbox_inches=0)\n",
    "plotter.fig"
   ]
  },
  {
   "cell_type": "code",
   "execution_count": null,
   "id": "53f23433",
   "metadata": {},
   "outputs": [],
   "source": []
  },
  {
   "cell_type": "code",
   "execution_count": null,
   "id": "b689fefb",
   "metadata": {},
   "outputs": [],
   "source": [
    "exp = BatchedExp.from_dir(\"../logdir/ntasks/large-task-size.02\")"
   ]
  },
  {
   "cell_type": "code",
   "execution_count": null,
   "id": "3eb98f06",
   "metadata": {},
   "outputs": [],
   "source": [
    "# figure 2\n",
    "plotter.plot(exp, (\"ntasks\", r\"$T$\"), disable_algs=([\"altmin\"], []))\n",
    "plotter.plot_range(exp, \"ntasks/altmin\", slice(2, None, None))\n",
    "plotter.fig.savefig(\"figures/ntasks-large-task-size.pdf\",\n",
    "                    format=\"pdf\", dpi=1200, bbox_inches=0)\n",
    "plotter.fig"
   ]
  },
  {
   "cell_type": "code",
   "execution_count": null,
   "id": "3b6b4095",
   "metadata": {},
   "outputs": [],
   "source": []
  },
  {
   "cell_type": "code",
   "execution_count": null,
   "id": "5eb0b891",
   "metadata": {},
   "outputs": [],
   "source": []
  },
  {
   "cell_type": "code",
   "execution_count": null,
   "id": "6410206d",
   "metadata": {},
   "outputs": [],
   "source": [
    "exp = BatchedExp.from_dir(\"../logdir/task-size.03\")"
   ]
  },
  {
   "cell_type": "code",
   "execution_count": null,
   "id": "869de32c",
   "metadata": {},
   "outputs": [],
   "source": [
    "# figure 3\n",
    "plotter.plot(exp, (\"task_size\", r\"$m$\"), \n",
    "             plot_fn=FinalPlotter.plot_mean_std_fn(),\n",
    "             disable_algs=([\"bm\", \"single\", \"altmin\"], []))\n",
    "plotter.plot_range(exp, \"task_size/bm\", slice(1, None, None))\n",
    "plotter.plot_range(exp, \"task_size/altmin\", slice(1, None, None))\n",
    "plotter.plot_range(exp, \"task_size/single\", slice(None, -1, None))\n",
    "plotter.fig.savefig(\"figures/task-size.pdf\", format=\"pdf\", \n",
    "                    dpi=1200, bbox_inches=0)\n",
    "plotter.fig"
   ]
  },
  {
   "cell_type": "code",
   "execution_count": null,
   "id": "c798daa2",
   "metadata": {},
   "outputs": [],
   "source": []
  },
  {
   "cell_type": "code",
   "execution_count": null,
   "id": "32fcdb63",
   "metadata": {},
   "outputs": [],
   "source": []
  },
  {
   "cell_type": "code",
   "execution_count": null,
   "id": "a386fd8c",
   "metadata": {},
   "outputs": [],
   "source": [
    "exp = BatchedExp.from_dir(\"../logdir/ntasks/large-task-size.06\")"
   ]
  },
  {
   "cell_type": "code",
   "execution_count": null,
   "id": "4a342250",
   "metadata": {},
   "outputs": [],
   "source": [
    "# figure 4\n",
    "plotter.plot(exp, (\"ntasks\", r\"$T$\"), disable_algs=([\"altmin\", \"bm\"], []))\n",
    "plotter.plot_range(exp, \"ntasks/altmin\", slice(1, None, None))\n",
    "plotter.plot_range(exp, \"ntasks/bm\", slice(1, None, None))\n",
    "with plotter.context(0):\n",
    "    plt.ylim((0, 2.5))\n",
    "plt.close()\n",
    "plotter.fig.savefig(\"figures/ntasks-large-task-size-adversarial.pdf\",\n",
    "                    format=\"pdf\", dpi=1200, bbox_inches=0)\n",
    "plotter.fig"
   ]
  },
  {
   "cell_type": "code",
   "execution_count": null,
   "id": "ba237f73",
   "metadata": {},
   "outputs": [],
   "source": []
  },
  {
   "cell_type": "code",
   "execution_count": null,
   "id": "50935231",
   "metadata": {},
   "outputs": [],
   "source": []
  },
  {
   "cell_type": "code",
   "execution_count": null,
   "id": "d9a7c793",
   "metadata": {},
   "outputs": [],
   "source": [
    "exp = BatchedExp.from_dir(\"../logdir/label-scale.05\")"
   ]
  },
  {
   "cell_type": "code",
   "execution_count": null,
   "id": "b06f4123",
   "metadata": {},
   "outputs": [],
   "source": [
    "# figure 5\n",
    "plotter.plot(exp, (\"label_scale\", r\"$\\sigma$\"), disable_algs=([\"altmin\", \"bm\"], []))\n",
    "plotter.fig.savefig(\"figures/label-scale.pdf\", format=\"pdf\",\n",
    "                    dpi=1200, bbox_inches=0)\n",
    "plotter.fig"
   ]
  },
  {
   "cell_type": "code",
   "execution_count": null,
   "id": "c398d367",
   "metadata": {},
   "outputs": [],
   "source": []
  },
  {
   "cell_type": "code",
   "execution_count": null,
   "id": "9f13a1ad",
   "metadata": {},
   "outputs": [],
   "source": []
  }
 ],
 "metadata": {
  "kernelspec": {
   "display_name": "Python 3 (ipykernel)",
   "language": "python",
   "name": "python3"
  },
  "language_info": {
   "codemirror_mode": {
    "name": "ipython",
    "version": 3
   },
   "file_extension": ".py",
   "mimetype": "text/x-python",
   "name": "python",
   "nbconvert_exporter": "python",
   "pygments_lexer": "ipython3",
   "version": "3.8.2"
  }
 },
 "nbformat": 4,
 "nbformat_minor": 5
}
